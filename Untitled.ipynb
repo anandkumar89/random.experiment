{
 "cells": [
  {
   "cell_type": "code",
   "execution_count": 7,
   "metadata": {},
   "outputs": [],
   "source": [
    "grid = [4, 4] # number of grid cells"
   ]
  },
  {
   "cell_type": "code",
   "execution_count": 1,
   "metadata": {},
   "outputs": [],
   "source": [
    "import sys"
   ]
  },
  {
   "cell_type": "code",
   "execution_count": 5,
   "metadata": {},
   "outputs": [],
   "source": [
    "def step(curr_cost, curr_pos, path):\n",
    "    X, Y = curr_pos\n",
    "    if (X==5) and (Y==5):\n",
    "        if curr_cost==0.0:\n",
    "            print ( path, curr_cost, curr_pos )\n",
    "            sys.exit()\n",
    "    if (X<5):\n",
    "        step( curr_cost + 2, [X + 1, Y], path+['E'] )\n",
    "        step( curr_cost - 2, [X - 1, Y], path+['W'] )\n",
    "    if (Y<5):\n",
    "        step( curr_cost * 2, [X, Y + 1], path+['S'] )\n",
    "        step( curr_cost / 2, [X, Y - 2], path+['N'] )"
   ]
  }
 ],
 "metadata": {
  "kernelspec": {
   "display_name": "Python 3",
   "language": "python",
   "name": "python3"
  },
  "language_info": {
   "codemirror_mode": {
    "name": "ipython",
    "version": 3
   },
   "file_extension": ".py",
   "mimetype": "text/x-python",
   "name": "python",
   "nbconvert_exporter": "python",
   "pygments_lexer": "ipython3",
   "version": "3.5.2"
  }
 },
 "nbformat": 4,
 "nbformat_minor": 2
}
